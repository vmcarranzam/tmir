{
  "nbformat": 4,
  "nbformat_minor": 0,
  "metadata": {
    "colab": {
      "provenance": [],
      "authorship_tag": "ABX9TyORdK6Q3gsV2IMHl5OgTRNZ",
      "include_colab_link": true
    },
    "kernelspec": {
      "name": "python3",
      "display_name": "Python 3"
    },
    "language_info": {
      "name": "python"
    }
  },
  "cells": [
    {
      "cell_type": "markdown",
      "metadata": {
        "id": "view-in-github",
        "colab_type": "text"
      },
      "source": [
        "<a href=\"https://colab.research.google.com/github/vmcarranzam/tmir/blob/main/Laboratorio_3.ipynb\" target=\"_parent\"><img src=\"https://colab.research.google.com/assets/colab-badge.svg\" alt=\"Open In Colab\"/></a>"
      ]
    },
    {
      "cell_type": "code",
      "source": [
        "import re\n",
        "from datetime import datetime"
      ],
      "metadata": {
        "id": "hcUrmHl6Xy83"
      },
      "execution_count": 23,
      "outputs": []
    },
    {
      "cell_type": "markdown",
      "source": [
        "#Problema 1"
      ],
      "metadata": {
        "id": "FrIxGp-dX6Iv"
      }
    },
    {
      "cell_type": "markdown",
      "source": [
        "##Parte 1"
      ],
      "metadata": {
        "id": "rzt04hcOX94P"
      }
    },
    {
      "cell_type": "code",
      "execution_count": 5,
      "metadata": {
        "id": "BOBCg0I0lvS-"
      },
      "outputs": [],
      "source": [
        "regex_correo = r'^[a-zA-Z0-9._%+-]+@[a-zA-Z0-9.-]+\\.[a-zA-Z]{2,}$'"
      ]
    },
    {
      "cell_type": "code",
      "source": [
        "correos = [\"Guate.360-porelmundo@miguate.com\", \"Miercoles3@hotmail.com\", \"Progra3.galileo@galileo.edu\", \"otrocorreo@\"]\n",
        "\n",
        "for correo in correos:\n",
        "    if re.match(regex_correo, correo):\n",
        "        print(f\"{correo} es válido\")\n",
        "    else:\n",
        "        print(f\"{correo} no es válido\")"
      ],
      "metadata": {
        "colab": {
          "base_uri": "https://localhost:8080/"
        },
        "id": "JgSFGxLQXpN4",
        "outputId": "b97a1896-20c6-42a9-80dd-c0832475971b"
      },
      "execution_count": 7,
      "outputs": [
        {
          "output_type": "stream",
          "name": "stdout",
          "text": [
            "Guate.360-porelmundo@miguate.com es válido\n",
            "Miercoles3@hotmail.com es válido\n",
            "Progra3.galileo@galileo.edu es válido\n",
            "otrocorreo@ no es válido\n"
          ]
        }
      ]
    },
    {
      "cell_type": "markdown",
      "source": [
        "##Parte 2"
      ],
      "metadata": {
        "id": "9ZXq4_WoYPN_"
      }
    },
    {
      "cell_type": "code",
      "source": [
        "regex_url = r'^(https?://www\\.[a-zA-Z0-9.-]{2,}\\.(com|org|edu|net))$'\n"
      ],
      "metadata": {
        "id": "Ct3VgPj3X4yW"
      },
      "execution_count": 14,
      "outputs": []
    },
    {
      "cell_type": "code",
      "source": [
        "urls = [\"https://www.guate360-porelmundo.com\", \"http://www.a2.net\", \"https://www.galileo.edu\", \"http://www.8.org\"]\n",
        "\n",
        "for url in urls:\n",
        "    if re.match(regex_url, url):\n",
        "        print(f\"{url} es válido\")\n",
        "    else:\n",
        "        print(f\"{url} no es válido\")"
      ],
      "metadata": {
        "colab": {
          "base_uri": "https://localhost:8080/"
        },
        "id": "pL5e0RlDYYZ_",
        "outputId": "8cbfcf1c-a387-433a-bc2c-e5a649eeb1cd"
      },
      "execution_count": 15,
      "outputs": [
        {
          "output_type": "stream",
          "name": "stdout",
          "text": [
            "https://www.guate360-porelmundo.com es válido\n",
            "http://www.a2.net es válido\n",
            "https://www.galileo.edu es válido\n",
            "http://www.8.org no es válido\n"
          ]
        }
      ]
    },
    {
      "cell_type": "markdown",
      "source": [
        "##Parte 3"
      ],
      "metadata": {
        "id": "lvIfy1FjZr7g"
      }
    },
    {
      "cell_type": "code",
      "source": [
        "regex_mac = r'^([0-9A-Fa-f]{2}[:-]){5}([0-9A-Fa-f]{2})$'"
      ],
      "metadata": {
        "id": "OjygQvoGYd-G"
      },
      "execution_count": 17,
      "outputs": []
    },
    {
      "cell_type": "code",
      "source": [
        "mac_addresses = [\"5A:6F:AF:8C:9B:1D\", \"6D:6C:4D:3A:EB:3F\", \"3A:7C:FA:C8:6D:4J\"]\n",
        "\n",
        "for mac in mac_addresses:\n",
        "    if re.match(regex_mac, mac):\n",
        "        print(f\"{mac} es válido\")\n",
        "    else:\n",
        "        print(f\"{mac} no es válido\")"
      ],
      "metadata": {
        "colab": {
          "base_uri": "https://localhost:8080/"
        },
        "id": "hmsbRrIoZyvC",
        "outputId": "71039424-1643-4a82-cd31-a7956f79f2e8"
      },
      "execution_count": 18,
      "outputs": [
        {
          "output_type": "stream",
          "name": "stdout",
          "text": [
            "5A:6F:AF:8C:9B:1D es válido\n",
            "6D:6C:4D:3A:EB:3F es válido\n",
            "3A:7C:FA:C8:6D:4J no es válido\n"
          ]
        }
      ]
    },
    {
      "cell_type": "markdown",
      "source": [
        "##Parte 4"
      ],
      "metadata": {
        "id": "EzVnH56oaPvj"
      }
    },
    {
      "cell_type": "code",
      "source": [
        "regex_ipv4 = r'^(25[0-5]|2[0-4][0-9]|[01]?[0-9][0-9]?)\\.(25[0-5]|2[0-4][0-9]|[01]?[0-9][0-9]?)\\.(25[0-5]|2[0-4][0-9]|[01]?[0-9][0-9]?)\\.(25[0-5]|2[0-4][0-9]|[01]?[0-9][0-9]?)$'"
      ],
      "metadata": {
        "id": "Fvut1yM4ZzbB"
      },
      "execution_count": 19,
      "outputs": []
    },
    {
      "cell_type": "code",
      "source": [
        "ips = [\"192.16.8.1\", \"234.56.78.90\", \"1.2.3.4\", \"192.168.45.345\"]\n",
        "\n",
        "for ip in ips:\n",
        "    if re.match(regex_ipv4, ip):\n",
        "        print(f\"{ip} es válida\")\n",
        "    else:\n",
        "        print(f\"{ip} no es válida\")"
      ],
      "metadata": {
        "colab": {
          "base_uri": "https://localhost:8080/"
        },
        "id": "g7EBZPAiaNdT",
        "outputId": "62e542aa-90d5-4c9b-935a-b9d011f4b218"
      },
      "execution_count": 20,
      "outputs": [
        {
          "output_type": "stream",
          "name": "stdout",
          "text": [
            "192.16.8.1 es válida\n",
            "234.56.78.90 es válida\n",
            "1.2.3.4 es válida\n",
            "192.168.45.345 no es válida\n"
          ]
        }
      ]
    },
    {
      "cell_type": "markdown",
      "source": [
        "##Parte 5"
      ],
      "metadata": {
        "id": "M_LtIFGKaW_a"
      }
    },
    {
      "cell_type": "code",
      "source": [
        "regex_fecha = r'^(0?[1-9]|[12][0-9]|3[01])[-./](0?[1-9]|1[0-2])[-./](20\\d{2}|[0-1]\\d)$'"
      ],
      "metadata": {
        "id": "Cfn9QAHQaRca"
      },
      "execution_count": 21,
      "outputs": []
    },
    {
      "cell_type": "code",
      "source": [
        "fechas = [\"20/1/2019\", \"12.03.2005\", \"31-11-08\", \"1-1-2012\", \"12-12-22\"]\n",
        "\n",
        "for fecha in fechas:\n",
        "    if re.match(regex_fecha, fecha):\n",
        "        print(f\"{fecha} es válida\")\n",
        "    else:\n",
        "        print(f\"{fecha} no es válida\")"
      ],
      "metadata": {
        "colab": {
          "base_uri": "https://localhost:8080/"
        },
        "id": "u18FGDiLaZV6",
        "outputId": "fabee588-a666-4abf-84ce-e0d82f20e23e"
      },
      "execution_count": 22,
      "outputs": [
        {
          "output_type": "stream",
          "name": "stdout",
          "text": [
            "20/1/2019 es válida\n",
            "12.03.2005 es válida\n",
            "31-11-08 es válida\n",
            "1-1-2012 es válida\n",
            "12-12-22 no es válida\n"
          ]
        }
      ]
    },
    {
      "cell_type": "markdown",
      "source": [
        "#Problema 2"
      ],
      "metadata": {
        "id": "cxbby0g6bMr0"
      }
    },
    {
      "cell_type": "code",
      "source": [
        "def procesar_archivo(archivo):\n",
        "    fechas = []\n",
        "    with open(archivo, 'r') as file:\n",
        "        contenido = file.read()\n",
        "        regex_fecha = r'(\\d{1,2})[-./](\\d{1,2}|\\w{3,})[-./](\\d{2,4})'\n",
        "        matches = re.findall(regex_fecha, contenido)\n",
        "        for match in matches:\n",
        "            dia, mes, ano = match\n",
        "            if mes.isalpha():\n",
        "                try:\n",
        "                    mes = datetime.strptime(mes, '%b').month\n",
        "                except ValueError:\n",
        "                    pass\n",
        "            fechas.append((int(dia), int(mes), int(ano)))\n",
        "    return fechas\n",
        "\n",
        "def calcular_promedio(fechas):\n",
        "    total_dias = sum(fecha[0] for fecha in fechas)\n",
        "    total_meses = sum(fecha[1] for fecha in fechas)\n",
        "    total_anos = sum(fecha[2] for fecha in fechas)\n",
        "    num_fechas = len(fechas)\n",
        "    promedio_dias = total_dias / num_fechas\n",
        "    promedio_meses = total_meses / num_fechas\n",
        "    promedio_anos = total_anos / num_fechas\n",
        "    return promedio_dias, promedio_meses, promedio_anos"
      ],
      "metadata": {
        "id": "QPxAMHxAabCa"
      },
      "execution_count": 24,
      "outputs": []
    },
    {
      "cell_type": "code",
      "source": [
        "archivos = ['D1.txt', 'D2.txt','D3.txt','D4.txt','D5.txt','D6.txt','D7.txt',\n",
        "            'D8.txt','D9.txt','D10.txt','D11.txt','D12.txt','D13.txt','D14.txt',\n",
        "            'D15.txt','D16.txt','D17.txt','D18.txt','D19.txt','D20.txt','D21.txt',]\n",
        "todas_las_fechas = []\n",
        "for archivo in archivos:\n",
        "    fechas = procesar_archivo(archivo)\n",
        "    todas_las_fechas.extend(fechas)\n",
        "\n",
        "promedio_dias, promedio_meses, promedio_anos = calcular_promedio(todas_las_fechas)\n",
        "\n",
        "print(f\"Promedio de días: {promedio_dias}\")\n",
        "print(f\"Promedio de meses: {promedio_meses}\")\n",
        "print(f\"Promedio de años: {promedio_anos}\")"
      ],
      "metadata": {
        "colab": {
          "base_uri": "https://localhost:8080/"
        },
        "id": "eSeJ6_KrcB6N",
        "outputId": "c2c7e365-ca14-4166-e33d-74f2ce72ee3c"
      },
      "execution_count": 25,
      "outputs": [
        {
          "output_type": "stream",
          "name": "stdout",
          "text": [
            "Promedio de días: 15.624761904761904\n",
            "Promedio de meses: 6.4664761904761905\n",
            "Promedio de años: 2016.6869047619048\n"
          ]
        }
      ]
    },
    {
      "cell_type": "code",
      "source": [],
      "metadata": {
        "id": "HW6zu7tVcHit"
      },
      "execution_count": null,
      "outputs": []
    }
  ]
}