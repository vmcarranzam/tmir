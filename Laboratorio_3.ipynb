{
  "nbformat": 4,
  "nbformat_minor": 0,
  "metadata": {
    "colab": {
      "provenance": [],
      "authorship_tag": "ABX9TyOQAFMJRWBvKPvF2s21009b",
      "include_colab_link": true
    },
    "kernelspec": {
      "name": "python3",
      "display_name": "Python 3"
    },
    "language_info": {
      "name": "python"
    }
  },
  "cells": [
    {
      "cell_type": "markdown",
      "metadata": {
        "id": "view-in-github",
        "colab_type": "text"
      },
      "source": [
        "<a href=\"https://colab.research.google.com/github/vmcarranzam/tmir/blob/main/Laboratorio_3.ipynb\" target=\"_parent\"><img src=\"https://colab.research.google.com/assets/colab-badge.svg\" alt=\"Open In Colab\"/></a>"
      ]
    },
    {
      "cell_type": "markdown",
      "source": [
        "#Enlace para descargar los ejercicios en archivo .zip,  [Click aquí](https://drive.google.com/file/d/1rYE6CucCqCCLXQybdK7Ex1yppZJGEtSf/view?usp=sharing)"
      ],
      "metadata": {
        "id": "sJnpJj9mqMJ9"
      }
    },
    {
      "cell_type": "code",
      "source": [
        "import re\n",
        "from datetime import datetime\n",
        "import pandas as pd"
      ],
      "metadata": {
        "id": "hcUrmHl6Xy83"
      },
      "execution_count": null,
      "outputs": []
    },
    {
      "cell_type": "markdown",
      "source": [
        "#Problema 1"
      ],
      "metadata": {
        "id": "FrIxGp-dX6Iv"
      }
    },
    {
      "cell_type": "markdown",
      "source": [
        "##Parte 1"
      ],
      "metadata": {
        "id": "rzt04hcOX94P"
      }
    },
    {
      "cell_type": "code",
      "execution_count": null,
      "metadata": {
        "id": "BOBCg0I0lvS-"
      },
      "outputs": [],
      "source": [
        "regex_correo = r'^[a-zA-Z0-9._%+-]+@[a-zA-Z0-9.-]+\\.[a-zA-Z]{2,}$'"
      ]
    },
    {
      "cell_type": "code",
      "source": [
        "correos = [\"Guate.360-porelmundo@miguate.com\", \"Miercoles3@hotmail.com\", \"Progra3.galileo@galileo.edu\", \"otrocorreo@\"]\n",
        "\n",
        "for correo in correos:\n",
        "    if re.match(regex_correo, correo):\n",
        "        print(f\"{correo} es válido\")\n",
        "    else:\n",
        "        print(f\"{correo} no es válido\")"
      ],
      "metadata": {
        "colab": {
          "base_uri": "https://localhost:8080/"
        },
        "id": "JgSFGxLQXpN4",
        "outputId": "b97a1896-20c6-42a9-80dd-c0832475971b"
      },
      "execution_count": null,
      "outputs": [
        {
          "output_type": "stream",
          "name": "stdout",
          "text": [
            "Guate.360-porelmundo@miguate.com es válido\n",
            "Miercoles3@hotmail.com es válido\n",
            "Progra3.galileo@galileo.edu es válido\n",
            "otrocorreo@ no es válido\n"
          ]
        }
      ]
    },
    {
      "cell_type": "markdown",
      "source": [
        "##Parte 2"
      ],
      "metadata": {
        "id": "9ZXq4_WoYPN_"
      }
    },
    {
      "cell_type": "code",
      "source": [
        "regex_url = r'^(https?://www\\.[a-zA-Z0-9.-]{2,}\\.(com|org|edu|net))$'\n"
      ],
      "metadata": {
        "id": "Ct3VgPj3X4yW"
      },
      "execution_count": null,
      "outputs": []
    },
    {
      "cell_type": "code",
      "source": [
        "urls = [\"https://www.guate360-porelmundo.com\", \"http://www.a2.net\", \"https://www.galileo.edu\", \"http://www.8.org\"]\n",
        "\n",
        "for url in urls:\n",
        "    if re.match(regex_url, url):\n",
        "        print(f\"{url} es válido\")\n",
        "    else:\n",
        "        print(f\"{url} no es válido\")"
      ],
      "metadata": {
        "colab": {
          "base_uri": "https://localhost:8080/"
        },
        "id": "pL5e0RlDYYZ_",
        "outputId": "8cbfcf1c-a387-433a-bc2c-e5a649eeb1cd"
      },
      "execution_count": null,
      "outputs": [
        {
          "output_type": "stream",
          "name": "stdout",
          "text": [
            "https://www.guate360-porelmundo.com es válido\n",
            "http://www.a2.net es válido\n",
            "https://www.galileo.edu es válido\n",
            "http://www.8.org no es válido\n"
          ]
        }
      ]
    },
    {
      "cell_type": "markdown",
      "source": [
        "##Parte 3"
      ],
      "metadata": {
        "id": "lvIfy1FjZr7g"
      }
    },
    {
      "cell_type": "code",
      "source": [
        "regex_mac = r'^([0-9A-Fa-f]{2}[:-]){5}([0-9A-Fa-f]{2})$'"
      ],
      "metadata": {
        "id": "OjygQvoGYd-G"
      },
      "execution_count": null,
      "outputs": []
    },
    {
      "cell_type": "code",
      "source": [
        "mac_addresses = [\"5A:6F:AF:8C:9B:1D\", \"6D:6C:4D:3A:EB:3F\", \"3A:7C:FA:C8:6D:4J\"]\n",
        "\n",
        "for mac in mac_addresses:\n",
        "    if re.match(regex_mac, mac):\n",
        "        print(f\"{mac} es válido\")\n",
        "    else:\n",
        "        print(f\"{mac} no es válido\")"
      ],
      "metadata": {
        "colab": {
          "base_uri": "https://localhost:8080/"
        },
        "id": "hmsbRrIoZyvC",
        "outputId": "71039424-1643-4a82-cd31-a7956f79f2e8"
      },
      "execution_count": null,
      "outputs": [
        {
          "output_type": "stream",
          "name": "stdout",
          "text": [
            "5A:6F:AF:8C:9B:1D es válido\n",
            "6D:6C:4D:3A:EB:3F es válido\n",
            "3A:7C:FA:C8:6D:4J no es válido\n"
          ]
        }
      ]
    },
    {
      "cell_type": "markdown",
      "source": [
        "##Parte 4"
      ],
      "metadata": {
        "id": "EzVnH56oaPvj"
      }
    },
    {
      "cell_type": "code",
      "source": [
        "regex_ipv4 = r'^(25[0-5]|2[0-4][0-9]|[01]?[0-9][0-9]?)\\.(25[0-5]|2[0-4][0-9]|[01]?[0-9][0-9]?)\\.(25[0-5]|2[0-4][0-9]|[01]?[0-9][0-9]?)\\.(25[0-5]|2[0-4][0-9]|[01]?[0-9][0-9]?)$'"
      ],
      "metadata": {
        "id": "Fvut1yM4ZzbB"
      },
      "execution_count": null,
      "outputs": []
    },
    {
      "cell_type": "code",
      "source": [
        "ips = [\"192.16.8.1\", \"234.56.78.90\", \"1.2.3.4\", \"192.168.45.345\"]\n",
        "\n",
        "for ip in ips:\n",
        "    if re.match(regex_ipv4, ip):\n",
        "        print(f\"{ip} es válida\")\n",
        "    else:\n",
        "        print(f\"{ip} no es válida\")"
      ],
      "metadata": {
        "colab": {
          "base_uri": "https://localhost:8080/"
        },
        "id": "g7EBZPAiaNdT",
        "outputId": "62e542aa-90d5-4c9b-935a-b9d011f4b218"
      },
      "execution_count": null,
      "outputs": [
        {
          "output_type": "stream",
          "name": "stdout",
          "text": [
            "192.16.8.1 es válida\n",
            "234.56.78.90 es válida\n",
            "1.2.3.4 es válida\n",
            "192.168.45.345 no es válida\n"
          ]
        }
      ]
    },
    {
      "cell_type": "markdown",
      "source": [
        "##Parte 5"
      ],
      "metadata": {
        "id": "M_LtIFGKaW_a"
      }
    },
    {
      "cell_type": "code",
      "source": [
        "regex_fecha = r'^(0?[1-9]|[12][0-9]|3[01])[-./](0?[1-9]|1[0-2])[-./](20\\d{2}|[0-1]\\d)$'"
      ],
      "metadata": {
        "id": "Cfn9QAHQaRca"
      },
      "execution_count": null,
      "outputs": []
    },
    {
      "cell_type": "code",
      "source": [
        "fechas = [\"20/1/2019\", \"12.03.2005\", \"31-11-08\", \"1-1-2012\", \"12-12-22\"]\n",
        "\n",
        "for fecha in fechas:\n",
        "    if re.match(regex_fecha, fecha):\n",
        "        print(f\"{fecha} es válida\")\n",
        "    else:\n",
        "        print(f\"{fecha} no es válida\")"
      ],
      "metadata": {
        "colab": {
          "base_uri": "https://localhost:8080/"
        },
        "id": "u18FGDiLaZV6",
        "outputId": "fabee588-a666-4abf-84ce-e0d82f20e23e"
      },
      "execution_count": null,
      "outputs": [
        {
          "output_type": "stream",
          "name": "stdout",
          "text": [
            "20/1/2019 es válida\n",
            "12.03.2005 es válida\n",
            "31-11-08 es válida\n",
            "1-1-2012 es válida\n",
            "12-12-22 no es válida\n"
          ]
        }
      ]
    },
    {
      "cell_type": "markdown",
      "source": [
        "#Problema 2"
      ],
      "metadata": {
        "id": "cxbby0g6bMr0"
      }
    },
    {
      "cell_type": "code",
      "source": [
        "def procesar_archivo(archivo):\n",
        "    fechas = []\n",
        "    with open(archivo, 'r') as file:\n",
        "        contenido = file.read()\n",
        "        regex_fecha = r'(\\d{1,2})[-./](\\d{1,2}|\\w{3,})[-./](\\d{2,4})'\n",
        "        matches = re.findall(regex_fecha, contenido)\n",
        "        for match in matches:\n",
        "            dia, mes, ano = match\n",
        "            if mes.isalpha():\n",
        "                try:\n",
        "                    mes = datetime.strptime(mes, '%b').month\n",
        "                except ValueError:\n",
        "                    pass\n",
        "            fechas.append((int(dia), int(mes), int(ano)))\n",
        "    return fechas\n",
        "\n",
        "def calcular_promedio(fechas):\n",
        "    total_dias = sum(fecha[0] for fecha in fechas)\n",
        "    total_meses = sum(fecha[1] for fecha in fechas)\n",
        "    total_anos = sum(fecha[2] for fecha in fechas)\n",
        "    num_fechas = len(fechas)\n",
        "    promedio_dias = total_dias / num_fechas\n",
        "    promedio_meses = total_meses / num_fechas\n",
        "    promedio_anos = total_anos / num_fechas\n",
        "    return promedio_dias, promedio_meses, promedio_anos"
      ],
      "metadata": {
        "id": "QPxAMHxAabCa"
      },
      "execution_count": null,
      "outputs": []
    },
    {
      "cell_type": "code",
      "source": [
        "archivos = ['D1.txt', 'D2.txt','D3.txt','D4.txt','D5.txt','D6.txt','D7.txt',\n",
        "            'D8.txt','D9.txt','D10.txt','D11.txt','D12.txt','D13.txt','D14.txt',\n",
        "            'D15.txt','D16.txt','D17.txt','D18.txt','D19.txt','D20.txt','D21.txt',]\n",
        "todas_las_fechas = []\n",
        "for archivo in archivos:\n",
        "    fechas = procesar_archivo(archivo)\n",
        "    todas_las_fechas.extend(fechas)\n",
        "\n",
        "promedio_dias, promedio_meses, promedio_anos = calcular_promedio(todas_las_fechas)\n",
        "\n",
        "print(f\"Promedio de días: {promedio_dias}\")\n",
        "print(f\"Promedio de meses: {promedio_meses}\")\n",
        "print(f\"Promedio de años: {promedio_anos}\")"
      ],
      "metadata": {
        "colab": {
          "base_uri": "https://localhost:8080/"
        },
        "id": "eSeJ6_KrcB6N",
        "outputId": "c2c7e365-ca14-4166-e33d-74f2ce72ee3c"
      },
      "execution_count": null,
      "outputs": [
        {
          "output_type": "stream",
          "name": "stdout",
          "text": [
            "Promedio de días: 15.624761904761904\n",
            "Promedio de meses: 6.4664761904761905\n",
            "Promedio de años: 2016.6869047619048\n"
          ]
        }
      ]
    },
    {
      "cell_type": "markdown",
      "source": [
        "#Problema 3"
      ],
      "metadata": {
        "id": "3oCzeRqYiiZN"
      }
    },
    {
      "cell_type": "code",
      "source": [
        "df = pd.read_csv(\"tw_source.csv\",encoding='latin1')\n",
        "df.columns = [\"num\", \"identificator\", \"timestamp\", \"QNQ\", \"Username\", \"content\"]\n",
        "usuarios_columna = df['Username']"
      ],
      "metadata": {
        "id": "GydXXw8slQff"
      },
      "execution_count": null,
      "outputs": []
    },
    {
      "cell_type": "code",
      "source": [
        "df.head()"
      ],
      "metadata": {
        "colab": {
          "base_uri": "https://localhost:8080/",
          "height": 380
        },
        "id": "t7uwtgpal4iB",
        "outputId": "7bfc0410-28f1-421c-b5aa-1fb1b58a9003"
      },
      "execution_count": null,
      "outputs": [
        {
          "output_type": "execute_result",
          "data": {
            "text/plain": [
              "   num  identificator                     timestamp       QNQ       Username  \\\n",
              "0    0     1467810672  Mon Apr 06 22:19:49 PDT 2009  NO_QUERY  scotthamilton   \n",
              "1    0     1467810917  Mon Apr 06 22:19:53 PDT 2009  NO_QUERY       mattycus   \n",
              "2    0     1467811184  Mon Apr 06 22:19:57 PDT 2009  NO_QUERY        ElleCTF   \n",
              "3    0     1467811193  Mon Apr 06 22:19:57 PDT 2009  NO_QUERY         Karoli   \n",
              "4    0     1467811372  Mon Apr 06 22:20:00 PDT 2009  NO_QUERY       joy_wolf   \n",
              "\n",
              "                                             content  \n",
              "0  is upset that he can't update his Facebook by ...  \n",
              "1  @Kenichan I dived many times for the ball. Man...  \n",
              "2    my whole body feels itchy and like its on fire   \n",
              "3  @nationwideclass no, it's not behaving at all....  \n",
              "4                      @Kwesidei not the whole crew   "
            ],
            "text/html": [
              "\n",
              "  <div id=\"df-fc286bb4-4e13-46da-9483-46b146d962e4\" class=\"colab-df-container\">\n",
              "    <div>\n",
              "<style scoped>\n",
              "    .dataframe tbody tr th:only-of-type {\n",
              "        vertical-align: middle;\n",
              "    }\n",
              "\n",
              "    .dataframe tbody tr th {\n",
              "        vertical-align: top;\n",
              "    }\n",
              "\n",
              "    .dataframe thead th {\n",
              "        text-align: right;\n",
              "    }\n",
              "</style>\n",
              "<table border=\"1\" class=\"dataframe\">\n",
              "  <thead>\n",
              "    <tr style=\"text-align: right;\">\n",
              "      <th></th>\n",
              "      <th>num</th>\n",
              "      <th>identificator</th>\n",
              "      <th>timestamp</th>\n",
              "      <th>QNQ</th>\n",
              "      <th>Username</th>\n",
              "      <th>content</th>\n",
              "    </tr>\n",
              "  </thead>\n",
              "  <tbody>\n",
              "    <tr>\n",
              "      <th>0</th>\n",
              "      <td>0</td>\n",
              "      <td>1467810672</td>\n",
              "      <td>Mon Apr 06 22:19:49 PDT 2009</td>\n",
              "      <td>NO_QUERY</td>\n",
              "      <td>scotthamilton</td>\n",
              "      <td>is upset that he can't update his Facebook by ...</td>\n",
              "    </tr>\n",
              "    <tr>\n",
              "      <th>1</th>\n",
              "      <td>0</td>\n",
              "      <td>1467810917</td>\n",
              "      <td>Mon Apr 06 22:19:53 PDT 2009</td>\n",
              "      <td>NO_QUERY</td>\n",
              "      <td>mattycus</td>\n",
              "      <td>@Kenichan I dived many times for the ball. Man...</td>\n",
              "    </tr>\n",
              "    <tr>\n",
              "      <th>2</th>\n",
              "      <td>0</td>\n",
              "      <td>1467811184</td>\n",
              "      <td>Mon Apr 06 22:19:57 PDT 2009</td>\n",
              "      <td>NO_QUERY</td>\n",
              "      <td>ElleCTF</td>\n",
              "      <td>my whole body feels itchy and like its on fire</td>\n",
              "    </tr>\n",
              "    <tr>\n",
              "      <th>3</th>\n",
              "      <td>0</td>\n",
              "      <td>1467811193</td>\n",
              "      <td>Mon Apr 06 22:19:57 PDT 2009</td>\n",
              "      <td>NO_QUERY</td>\n",
              "      <td>Karoli</td>\n",
              "      <td>@nationwideclass no, it's not behaving at all....</td>\n",
              "    </tr>\n",
              "    <tr>\n",
              "      <th>4</th>\n",
              "      <td>0</td>\n",
              "      <td>1467811372</td>\n",
              "      <td>Mon Apr 06 22:20:00 PDT 2009</td>\n",
              "      <td>NO_QUERY</td>\n",
              "      <td>joy_wolf</td>\n",
              "      <td>@Kwesidei not the whole crew</td>\n",
              "    </tr>\n",
              "  </tbody>\n",
              "</table>\n",
              "</div>\n",
              "    <div class=\"colab-df-buttons\">\n",
              "\n",
              "  <div class=\"colab-df-container\">\n",
              "    <button class=\"colab-df-convert\" onclick=\"convertToInteractive('df-fc286bb4-4e13-46da-9483-46b146d962e4')\"\n",
              "            title=\"Convert this dataframe to an interactive table.\"\n",
              "            style=\"display:none;\">\n",
              "\n",
              "  <svg xmlns=\"http://www.w3.org/2000/svg\" height=\"24px\" viewBox=\"0 -960 960 960\">\n",
              "    <path d=\"M120-120v-720h720v720H120Zm60-500h600v-160H180v160Zm220 220h160v-160H400v160Zm0 220h160v-160H400v160ZM180-400h160v-160H180v160Zm440 0h160v-160H620v160ZM180-180h160v-160H180v160Zm440 0h160v-160H620v160Z\"/>\n",
              "  </svg>\n",
              "    </button>\n",
              "\n",
              "  <style>\n",
              "    .colab-df-container {\n",
              "      display:flex;\n",
              "      gap: 12px;\n",
              "    }\n",
              "\n",
              "    .colab-df-convert {\n",
              "      background-color: #E8F0FE;\n",
              "      border: none;\n",
              "      border-radius: 50%;\n",
              "      cursor: pointer;\n",
              "      display: none;\n",
              "      fill: #1967D2;\n",
              "      height: 32px;\n",
              "      padding: 0 0 0 0;\n",
              "      width: 32px;\n",
              "    }\n",
              "\n",
              "    .colab-df-convert:hover {\n",
              "      background-color: #E2EBFA;\n",
              "      box-shadow: 0px 1px 2px rgba(60, 64, 67, 0.3), 0px 1px 3px 1px rgba(60, 64, 67, 0.15);\n",
              "      fill: #174EA6;\n",
              "    }\n",
              "\n",
              "    .colab-df-buttons div {\n",
              "      margin-bottom: 4px;\n",
              "    }\n",
              "\n",
              "    [theme=dark] .colab-df-convert {\n",
              "      background-color: #3B4455;\n",
              "      fill: #D2E3FC;\n",
              "    }\n",
              "\n",
              "    [theme=dark] .colab-df-convert:hover {\n",
              "      background-color: #434B5C;\n",
              "      box-shadow: 0px 1px 3px 1px rgba(0, 0, 0, 0.15);\n",
              "      filter: drop-shadow(0px 1px 2px rgba(0, 0, 0, 0.3));\n",
              "      fill: #FFFFFF;\n",
              "    }\n",
              "  </style>\n",
              "\n",
              "    <script>\n",
              "      const buttonEl =\n",
              "        document.querySelector('#df-fc286bb4-4e13-46da-9483-46b146d962e4 button.colab-df-convert');\n",
              "      buttonEl.style.display =\n",
              "        google.colab.kernel.accessAllowed ? 'block' : 'none';\n",
              "\n",
              "      async function convertToInteractive(key) {\n",
              "        const element = document.querySelector('#df-fc286bb4-4e13-46da-9483-46b146d962e4');\n",
              "        const dataTable =\n",
              "          await google.colab.kernel.invokeFunction('convertToInteractive',\n",
              "                                                    [key], {});\n",
              "        if (!dataTable) return;\n",
              "\n",
              "        const docLinkHtml = 'Like what you see? Visit the ' +\n",
              "          '<a target=\"_blank\" href=https://colab.research.google.com/notebooks/data_table.ipynb>data table notebook</a>'\n",
              "          + ' to learn more about interactive tables.';\n",
              "        element.innerHTML = '';\n",
              "        dataTable['output_type'] = 'display_data';\n",
              "        await google.colab.output.renderOutput(dataTable, element);\n",
              "        const docLink = document.createElement('div');\n",
              "        docLink.innerHTML = docLinkHtml;\n",
              "        element.appendChild(docLink);\n",
              "      }\n",
              "    </script>\n",
              "  </div>\n",
              "\n",
              "\n",
              "<div id=\"df-2083ea52-3835-4649-bf38-c5b4f8ec7129\">\n",
              "  <button class=\"colab-df-quickchart\" onclick=\"quickchart('df-2083ea52-3835-4649-bf38-c5b4f8ec7129')\"\n",
              "            title=\"Suggest charts.\"\n",
              "            style=\"display:none;\">\n",
              "\n",
              "<svg xmlns=\"http://www.w3.org/2000/svg\" height=\"24px\"viewBox=\"0 0 24 24\"\n",
              "     width=\"24px\">\n",
              "    <g>\n",
              "        <path d=\"M19 3H5c-1.1 0-2 .9-2 2v14c0 1.1.9 2 2 2h14c1.1 0 2-.9 2-2V5c0-1.1-.9-2-2-2zM9 17H7v-7h2v7zm4 0h-2V7h2v10zm4 0h-2v-4h2v4z\"/>\n",
              "    </g>\n",
              "</svg>\n",
              "  </button>\n",
              "\n",
              "<style>\n",
              "  .colab-df-quickchart {\n",
              "      --bg-color: #E8F0FE;\n",
              "      --fill-color: #1967D2;\n",
              "      --hover-bg-color: #E2EBFA;\n",
              "      --hover-fill-color: #174EA6;\n",
              "      --disabled-fill-color: #AAA;\n",
              "      --disabled-bg-color: #DDD;\n",
              "  }\n",
              "\n",
              "  [theme=dark] .colab-df-quickchart {\n",
              "      --bg-color: #3B4455;\n",
              "      --fill-color: #D2E3FC;\n",
              "      --hover-bg-color: #434B5C;\n",
              "      --hover-fill-color: #FFFFFF;\n",
              "      --disabled-bg-color: #3B4455;\n",
              "      --disabled-fill-color: #666;\n",
              "  }\n",
              "\n",
              "  .colab-df-quickchart {\n",
              "    background-color: var(--bg-color);\n",
              "    border: none;\n",
              "    border-radius: 50%;\n",
              "    cursor: pointer;\n",
              "    display: none;\n",
              "    fill: var(--fill-color);\n",
              "    height: 32px;\n",
              "    padding: 0;\n",
              "    width: 32px;\n",
              "  }\n",
              "\n",
              "  .colab-df-quickchart:hover {\n",
              "    background-color: var(--hover-bg-color);\n",
              "    box-shadow: 0 1px 2px rgba(60, 64, 67, 0.3), 0 1px 3px 1px rgba(60, 64, 67, 0.15);\n",
              "    fill: var(--button-hover-fill-color);\n",
              "  }\n",
              "\n",
              "  .colab-df-quickchart-complete:disabled,\n",
              "  .colab-df-quickchart-complete:disabled:hover {\n",
              "    background-color: var(--disabled-bg-color);\n",
              "    fill: var(--disabled-fill-color);\n",
              "    box-shadow: none;\n",
              "  }\n",
              "\n",
              "  .colab-df-spinner {\n",
              "    border: 2px solid var(--fill-color);\n",
              "    border-color: transparent;\n",
              "    border-bottom-color: var(--fill-color);\n",
              "    animation:\n",
              "      spin 1s steps(1) infinite;\n",
              "  }\n",
              "\n",
              "  @keyframes spin {\n",
              "    0% {\n",
              "      border-color: transparent;\n",
              "      border-bottom-color: var(--fill-color);\n",
              "      border-left-color: var(--fill-color);\n",
              "    }\n",
              "    20% {\n",
              "      border-color: transparent;\n",
              "      border-left-color: var(--fill-color);\n",
              "      border-top-color: var(--fill-color);\n",
              "    }\n",
              "    30% {\n",
              "      border-color: transparent;\n",
              "      border-left-color: var(--fill-color);\n",
              "      border-top-color: var(--fill-color);\n",
              "      border-right-color: var(--fill-color);\n",
              "    }\n",
              "    40% {\n",
              "      border-color: transparent;\n",
              "      border-right-color: var(--fill-color);\n",
              "      border-top-color: var(--fill-color);\n",
              "    }\n",
              "    60% {\n",
              "      border-color: transparent;\n",
              "      border-right-color: var(--fill-color);\n",
              "    }\n",
              "    80% {\n",
              "      border-color: transparent;\n",
              "      border-right-color: var(--fill-color);\n",
              "      border-bottom-color: var(--fill-color);\n",
              "    }\n",
              "    90% {\n",
              "      border-color: transparent;\n",
              "      border-bottom-color: var(--fill-color);\n",
              "    }\n",
              "  }\n",
              "</style>\n",
              "\n",
              "  <script>\n",
              "    async function quickchart(key) {\n",
              "      const quickchartButtonEl =\n",
              "        document.querySelector('#' + key + ' button');\n",
              "      quickchartButtonEl.disabled = true;  // To prevent multiple clicks.\n",
              "      quickchartButtonEl.classList.add('colab-df-spinner');\n",
              "      try {\n",
              "        const charts = await google.colab.kernel.invokeFunction(\n",
              "            'suggestCharts', [key], {});\n",
              "      } catch (error) {\n",
              "        console.error('Error during call to suggestCharts:', error);\n",
              "      }\n",
              "      quickchartButtonEl.classList.remove('colab-df-spinner');\n",
              "      quickchartButtonEl.classList.add('colab-df-quickchart-complete');\n",
              "    }\n",
              "    (() => {\n",
              "      let quickchartButtonEl =\n",
              "        document.querySelector('#df-2083ea52-3835-4649-bf38-c5b4f8ec7129 button');\n",
              "      quickchartButtonEl.style.display =\n",
              "        google.colab.kernel.accessAllowed ? 'block' : 'none';\n",
              "    })();\n",
              "  </script>\n",
              "</div>\n",
              "    </div>\n",
              "  </div>\n"
            ]
          },
          "metadata": {},
          "execution_count": 36
        }
      ]
    },
    {
      "cell_type": "code",
      "source": [
        "popularidad_usuarios = {}\n",
        "regex_usuario = r'(\\w+)'\n",
        "for usuario in usuarios_columna:\n",
        "    usuarios_mencionados = re.findall(regex_usuario, usuario)\n",
        "    for usuario in usuarios_mencionados:\n",
        "        if usuario in popularidad_usuarios:\n",
        "            popularidad_usuarios[usuario] += 1\n",
        "        else:\n",
        "            popularidad_usuarios[usuario] = 1\n",
        "\n",
        "usuarios_populares = sorted(popularidad_usuarios.items(), key=lambda x: x[1], reverse=True)\n",
        "\n",
        "usuarios_top3 = usuarios_populares[:3]\n",
        "\n",
        "corpus_usuarios = {}\n",
        "\n",
        "for usuario, _ in usuarios_top3:\n",
        "    tweets_usuario = df[df['Username'].str.contains(usuario, case=False)]\n",
        "\n",
        "    corpus = []\n",
        "    for index, row in tweets_usuario.iterrows():\n",
        "        tweet_id = row['identificator']\n",
        "        timestamp = row['timestamp']\n",
        "        contenido = row['content']\n",
        "        longitud = len(contenido)\n",
        "\n",
        "        corpus.append({\n",
        "            'Content': contenido,\n",
        "            'Metadata': {\n",
        "                'ID': tweet_id,\n",
        "                'Timestamp': timestamp,\n",
        "                'Length': longitud\n",
        "            }\n",
        "        })\n",
        "\n",
        "    corpus_usuarios[usuario] = corpus\n",
        "\n",
        "for usuario, _ in usuarios_top3:\n",
        "    print(f'Usuario: {usuario}')\n",
        "    print(f'Total de tweets: {len(corpus_usuarios[usuario])}')\n",
        "    print(f'Primer tweet:')\n",
        "    print(corpus_usuarios[usuario][0])\n",
        "    print('---')"
      ],
      "metadata": {
        "colab": {
          "base_uri": "https://localhost:8080/"
        },
        "id": "HW6zu7tVcHit",
        "outputId": "ccce36e3-8227-40f8-e8ce-9ea1df132021"
      },
      "execution_count": null,
      "outputs": [
        {
          "output_type": "stream",
          "name": "stdout",
          "text": [
            "Usuario: lost_dog\n",
            "Total de tweets: 549\n",
            "Primer tweet:\n",
            "{'Content': '@NyleW I am lost. Please help me find a good home. ', 'Metadata': {'ID': 1676704158, 'Timestamp': 'Fri May 01 22:54:02 PDT 2009', 'Length': 51}}\n",
            "---\n",
            "Usuario: webwoke\n",
            "Total de tweets: 345\n",
            "Primer tweet:\n",
            "{'Content': 'auchh, drop by 1  (32)elitestv.com', 'Metadata': {'ID': 2047801265, 'Timestamp': 'Fri Jun 05 14:12:05 PDT 2009', 'Length': 34}}\n",
            "---\n",
            "Usuario: tweetpet\n",
            "Total de tweets: 311\n",
            "Primer tweet:\n",
            "{'Content': '@tweetchild  Clean Me!', 'Metadata': {'ID': 1548797240, 'Timestamp': 'Fri Apr 17 22:00:01 PDT 2009', 'Length': 22}}\n",
            "---\n"
          ]
        }
      ]
    },
    {
      "cell_type": "code",
      "source": [],
      "metadata": {
        "id": "7oFtad0ZmIGY"
      },
      "execution_count": null,
      "outputs": []
    }
  ]
}